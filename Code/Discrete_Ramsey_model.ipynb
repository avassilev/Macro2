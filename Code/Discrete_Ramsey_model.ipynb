{
 "cells": [
  {
   "cell_type": "code",
   "execution_count": 1,
   "id": "ad58e4b0",
   "metadata": {},
   "outputs": [],
   "source": [
    "import numpy as np\n",
    "from scipy.optimize import root_scalar\n",
    "import matplotlib.pyplot as plt"
   ]
  },
  {
   "cell_type": "code",
   "execution_count": 36,
   "id": "c3033f38",
   "metadata": {},
   "outputs": [],
   "source": [
    "A = 1\n",
    "alpha = 0.6\n",
    "delta = 0.08\n",
    "gamma = 0.5\n",
    "beta = 0.98\n",
    "\n",
    "rho = 1/beta - 1\n",
    "\n",
    "k = np.arange(500)\n",
    "kbar = (alpha*A/(rho+delta))**(1/(1-alpha))\n",
    "cbar = f(kbar) - delta*kbar\n",
    "\n",
    "f = lambda k: A*k**alpha\n",
    "\n",
    "\n",
    "def c_for_stationary_k(k):\n",
    "    sol = root_scalar(lambda c,k: f(k) - delta*k - c, args = (k,), bracket=(0,2*kbar))\n",
    "    return sol.root\n",
    "\n",
    "vec_c_for_stationary_k = np.vectorize(c_for_stationary_k)\n",
    "\n",
    "cstar = vec_c_for_stationary_k(k)\n",
    "\n"
   ]
  },
  {
   "cell_type": "code",
   "execution_count": 27,
   "id": "992affee",
   "metadata": {},
   "outputs": [
    {
     "data": {
      "text/plain": [
       "8.215838133408013"
      ]
     },
     "execution_count": 27,
     "metadata": {},
     "output_type": "execute_result"
    }
   ],
   "source": [
    "np.max(cstar)"
   ]
  },
  {
   "cell_type": "code",
   "execution_count": 94,
   "id": "b36b7f13",
   "metadata": {},
   "outputs": [
    {
     "data": {
      "image/png": "[encoded data removed]",
      "text/plain": [
       "<Figure size 432x288 with 1 Axes>"
      ]
     },
     "metadata": {
      "needs_background": "light"
     },
     "output_type": "display_data"
    }
   ],
   "source": [
    "f=plt.figure()\n",
    "ax = plt.gca()\n",
    "ax.set_xlim([-1, np.max(k)])\n",
    "ax.set_ylim([0, 1.4*np.max(cstar)])\n",
    "plt.plot(k,cstar,label='$\\\\Delta k_t = 0$')\n",
    "plt.vlines(kbar, 0, 1.4*np.max(cstar), color='red', label='$\\\\Delta c_t = 0$')\n",
    "plt.hlines(cbar, 0, kbar, colors='grey', linestyles='dashed')\n",
    "plt.text(5, 1.05*cbar, '$\\\\bar{c}$', fontsize=12)\n",
    "plt.text(1.05*kbar, 0.1, '$\\\\bar{k}$', fontsize=12)\n",
    "plt.xlabel(\"$k$\")\n",
    "plt.ylabel(\"$c$\")\n",
    "plt.legend()\n",
    "\n",
    "plt.arrow(250, 4 , 0, -1, width = 0.1, head_width = 7, head_length = 0.4, color='k')\n",
    "plt.arrow(250, 4 , 40, 0, width = 0.01, head_width = 0.2, head_length = 10, color='k')\n",
    "\n",
    "plt.arrow(40, 2 , 0, 1, width = 0.1, head_width = 7, head_length = 0.4, color='k')\n",
    "plt.arrow(40, 2 , 30, 0, width = 0.01, head_width = 0.2, head_length = 10, color='k')\n",
    "\n",
    "plt.arrow(300, 8.5 , 0, -1, width = 0.1, head_width = 7, head_length = 0.4, color='k')\n",
    "plt.arrow(300, 8.5 , -40, 0, width = 0.01, head_width = 0.2, head_length = 10, color='k')\n",
    "\n",
    "plt.arrow(45, 9.5 , 0, 1, width = 0.1, head_width = 7, head_length = 0.4, color='k')\n",
    "plt.arrow(45, 9.5 , -30, 0, width = 0.01, head_width = 0.2, head_length = 10, color='k')\n",
    "\n",
    "\n",
    "plt.show()\n",
    "f.savefig(\"phaseportrait.pdf\")"
   ]
  }
 ],
 "metadata": {
  "kernelspec": {
   "display_name": "Python 3 (ipykernel)",
   "language": "python",
   "name": "python3"
  },
  "language_info": {
   "codemirror_mode": {
    "name": "ipython",
    "version": 3
   },
   "file_extension": ".py",
   "mimetype": "text/x-python",
   "name": "python",
   "nbconvert_exporter": "python",
   "pygments_lexer": "ipython3",
   "version": "3.8.8"
  }
 },
 "nbformat": 4,
 "nbformat_minor": 5
}
